{
 "cells": [
  {
   "cell_type": "code",
   "execution_count": 1,
   "metadata": {},
   "outputs": [],
   "source": [
    "import pandas as pd"
   ]
  },
  {
   "cell_type": "code",
   "execution_count": 2,
   "metadata": {},
   "outputs": [],
   "source": [
    "file = \"budget_data.csv\""
   ]
  },
  {
   "cell_type": "code",
   "execution_count": 3,
   "metadata": {},
   "outputs": [],
   "source": [
    "df = pd.read_csv(file, encoding=\"ISO-8859-1\")"
   ]
  },
  {
   "cell_type": "code",
   "execution_count": 66,
   "metadata": {},
   "outputs": [
    {
     "name": "stdout",
     "output_type": "stream",
     "text": [
      "Total Months: 86\n"
     ]
    }
   ],
   "source": [
    "months = df[\"Date\"].unique()\n",
    "tot = len(months)\n",
    "print(f\"Total Months: {tot}\")"
   ]
  },
  {
   "cell_type": "code",
   "execution_count": 67,
   "metadata": {},
   "outputs": [
    {
     "name": "stdout",
     "output_type": "stream",
     "text": [
      "Total: $38,382,578\n"
     ]
    }
   ],
   "source": [
    "profit = df[\"Profit/Losses\"].sum()\n",
    "profit = '{:,}'.format(profit)\n",
    "print(f\"Total: ${profit}\")"
   ]
  },
  {
   "cell_type": "code",
   "execution_count": 55,
   "metadata": {},
   "outputs": [],
   "source": [
    "total = 0\n",
    "differences = [0]\n",
    "for x in range(1, len(df)):\n",
    "    difference = df[\"Profit/Losses\"][x] - df[\"Profit/Losses\"][x-1]\n",
    "    differences.append(difference)\n",
    "    total = total + difference\n",
    "avg = total / (len(df)-1)\n",
    "avg = '{:,.2f}'.format(avg)"
   ]
  },
  {
   "cell_type": "code",
   "execution_count": 68,
   "metadata": {},
   "outputs": [
    {
     "name": "stdout",
     "output_type": "stream",
     "text": [
      "Average Change: $-2,315.12\n"
     ]
    }
   ],
   "source": [
    "print(f\"Average Change: ${avg}\")"
   ]
  },
  {
   "cell_type": "code",
   "execution_count": 42,
   "metadata": {},
   "outputs": [],
   "source": [
    "df[\"Change\"] = differences"
   ]
  },
  {
   "cell_type": "code",
   "execution_count": 57,
   "metadata": {},
   "outputs": [],
   "source": [
    "sorted_df = df.sort_values(\"Change\")"
   ]
  },
  {
   "cell_type": "code",
   "execution_count": null,
   "metadata": {},
   "outputs": [],
   "source": [
    "sorted_df = sorted_df.set_index(\"Change\")"
   ]
  },
  {
   "cell_type": "code",
   "execution_count": 73,
   "metadata": {},
   "outputs": [
    {
     "name": "stdout",
     "output_type": "stream",
     "text": [
      "Greatest Increase in Profits: Feb-2012 (1926159)\n"
     ]
    }
   ],
   "source": [
    "max_month = sorted_df.loc[max(differences), \"Date\"]\n",
    "print(f\"Greatest Increase in Profits: {max_month} (${max(differences)})\")"
   ]
  },
  {
   "cell_type": "code",
   "execution_count": 74,
   "metadata": {},
   "outputs": [
    {
     "name": "stdout",
     "output_type": "stream",
     "text": [
      "Greatest Decrease in Profits: Sep-2013 ($-2196167)\n"
     ]
    }
   ],
   "source": [
    "min_month = sorted_df.loc[min(differences), \"Date\"]\n",
    "print(f\"Greatest Decrease in Profits: {min_month} (${min(differences)})\")"
   ]
  },
  {
   "cell_type": "code",
   "execution_count": 76,
   "metadata": {},
   "outputs": [],
   "source": [
    "f= open(\"analysis.txt\",\"w+\")\n",
    "f.write(f\"Financial Analysis\\n\\nTotal Months: {tot}\\n\")\n",
    "f.write(f\"Total: ${profit}\\n\")\n",
    "f.write(f\"Average Change: ${avg}\\n\")\n",
    "f.write(f\"Greatest Increase in Profits: {max_month} (${max(differences)})\\n\")\n",
    "f.write(f\"Greatest Decrease in Profits: {min_month} (${min(differences)})\")\n",
    "f.close()"
   ]
  },
  {
   "cell_type": "code",
   "execution_count": null,
   "metadata": {},
   "outputs": [],
   "source": []
  }
 ],
 "metadata": {
  "kernelspec": {
   "display_name": "Python 3",
   "language": "python",
   "name": "python3"
  },
  "language_info": {
   "codemirror_mode": {
    "name": "ipython",
    "version": 3
   },
   "file_extension": ".py",
   "mimetype": "text/x-python",
   "name": "python",
   "nbconvert_exporter": "python",
   "pygments_lexer": "ipython3",
   "version": "3.6.5"
  }
 },
 "nbformat": 4,
 "nbformat_minor": 2
}
